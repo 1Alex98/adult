{
  "nbformat": 4,
  "nbformat_minor": 0,
  "metadata": {
    "colab": {
      "name": "Untitled",
      "provenance": [],
      "collapsed_sections": [],
      "authorship_tag": "ABX9TyO1eiLkrti4fKz802OIyK2z",
      "include_colab_link": true
    },
    "kernelspec": {
      "name": "python3",
      "display_name": "Python 3"
    }
  },
  "cells": [
    {
      "cell_type": "markdown",
      "metadata": {
        "id": "view-in-github",
        "colab_type": "text"
      },
      "source": [
        "<a href=\"https://colab.research.google.com/github/1Alex98/adult/blob/master/predecir%20si%20los%20ingresos%20de%20un%20adulto%20superar%C3%A1n%20los%2050k%20por%20a%C3%B1o1.ipynb\" target=\"_parent\"><img src=\"https://colab.research.google.com/assets/colab-badge.svg\" alt=\"Open In Colab\"/></a>"
      ]
    },
    {
      "cell_type": "code",
      "metadata": {
        "id": "mOoieyD3X8mB",
        "colab_type": "code",
        "colab": {
          "base_uri": "https://localhost:8080/",
          "height": 157
        },
        "outputId": "67e9f459-3326-460c-a288-b416ee370450"
      },
      "source": [
        "import numpy as np \n",
        "import pandas as pd\n",
        "import matplotlib.pyplot as pplt  \n",
        "import seaborn as sns \n",
        "from pandas.plotting import scatter_matrix\n",
        "from sklearn.linear_model import LogisticRegression\n",
        "from sklearn.model_selection import train_test_split \n",
        "from sklearn.model_selection import KFold\n",
        "from sklearn.model_selection import cross_val_score\n",
        "from sklearn import metrics\n",
        "import statsmodels.api as sm\n",
        "\n",
        "url = \"https://raw.githubusercontent.com/1Alex98/adult/master/adult.csv\"\n",
        "s=requests.get(url).content\n",
        "salary_dataset=pd.read_csv(io.StringIO(s.decode('utf-8')))\n",
        "salary_dataset.head(2)"
      ],
      "execution_count": null,
      "outputs": [
        {
          "output_type": "execute_result",
          "data": {
            "text/html": [
              "<div>\n",
              "<style scoped>\n",
              "    .dataframe tbody tr th:only-of-type {\n",
              "        vertical-align: middle;\n",
              "    }\n",
              "\n",
              "    .dataframe tbody tr th {\n",
              "        vertical-align: top;\n",
              "    }\n",
              "\n",
              "    .dataframe thead th {\n",
              "        text-align: right;\n",
              "    }\n",
              "</style>\n",
              "<table border=\"1\" class=\"dataframe\">\n",
              "  <thead>\n",
              "    <tr style=\"text-align: right;\">\n",
              "      <th></th>\n",
              "      <th>age</th>\n",
              "      <th>workclass</th>\n",
              "      <th>fnlwgt</th>\n",
              "      <th>education</th>\n",
              "      <th>educational-num</th>\n",
              "      <th>marital-status</th>\n",
              "      <th>occupation</th>\n",
              "      <th>relationship</th>\n",
              "      <th>race</th>\n",
              "      <th>gender</th>\n",
              "      <th>capital-gain</th>\n",
              "      <th>capital-loss</th>\n",
              "      <th>hours-per-week</th>\n",
              "      <th>native-country</th>\n",
              "      <th>income</th>\n",
              "    </tr>\n",
              "  </thead>\n",
              "  <tbody>\n",
              "    <tr>\n",
              "      <th>0</th>\n",
              "      <td>25</td>\n",
              "      <td>Private</td>\n",
              "      <td>226802</td>\n",
              "      <td>11th</td>\n",
              "      <td>7</td>\n",
              "      <td>Never-married</td>\n",
              "      <td>Machine-op-inspct</td>\n",
              "      <td>Own-child</td>\n",
              "      <td>Black</td>\n",
              "      <td>Male</td>\n",
              "      <td>0</td>\n",
              "      <td>0</td>\n",
              "      <td>40</td>\n",
              "      <td>United-States</td>\n",
              "      <td>&lt;=50K</td>\n",
              "    </tr>\n",
              "    <tr>\n",
              "      <th>1</th>\n",
              "      <td>38</td>\n",
              "      <td>Private</td>\n",
              "      <td>89814</td>\n",
              "      <td>HS-grad</td>\n",
              "      <td>9</td>\n",
              "      <td>Married-civ-spouse</td>\n",
              "      <td>Farming-fishing</td>\n",
              "      <td>Husband</td>\n",
              "      <td>White</td>\n",
              "      <td>Male</td>\n",
              "      <td>0</td>\n",
              "      <td>0</td>\n",
              "      <td>50</td>\n",
              "      <td>United-States</td>\n",
              "      <td>&lt;=50K</td>\n",
              "    </tr>\n",
              "  </tbody>\n",
              "</table>\n",
              "</div>"
            ],
            "text/plain": [
              "   age workclass  fnlwgt  ... hours-per-week  native-country income\n",
              "0   25   Private  226802  ...             40   United-States  <=50K\n",
              "1   38   Private   89814  ...             50   United-States  <=50K\n",
              "\n",
              "[2 rows x 15 columns]"
            ]
          },
          "metadata": {
            "tags": []
          },
          "execution_count": 157
        }
      ]
    },
    {
      "cell_type": "code",
      "metadata": {
        "id": "wxv_ZQykkMpX",
        "colab_type": "code",
        "colab": {
          "base_uri": "https://localhost:8080/",
          "height": 386
        },
        "outputId": "7f153f54-caa4-4fbe-eac8-1400eeb4c2f2"
      },
      "source": [
        "salary_dataset.info()"
      ],
      "execution_count": null,
      "outputs": [
        {
          "output_type": "stream",
          "text": [
            "<class 'pandas.core.frame.DataFrame'>\n",
            "RangeIndex: 48842 entries, 0 to 48841\n",
            "Data columns (total 15 columns):\n",
            " #   Column           Non-Null Count  Dtype \n",
            "---  ------           --------------  ----- \n",
            " 0   age              48842 non-null  int64 \n",
            " 1   workclass        48842 non-null  object\n",
            " 2   fnlwgt           48842 non-null  int64 \n",
            " 3   education        48842 non-null  object\n",
            " 4   educational-num  48842 non-null  int64 \n",
            " 5   marital-status   48842 non-null  object\n",
            " 6   occupation       48842 non-null  object\n",
            " 7   relationship     48842 non-null  object\n",
            " 8   race             48842 non-null  object\n",
            " 9   gender           48842 non-null  object\n",
            " 10  capital-gain     48842 non-null  int64 \n",
            " 11  capital-loss     48842 non-null  int64 \n",
            " 12  hours-per-week   48842 non-null  int64 \n",
            " 13  native-country   48842 non-null  object\n",
            " 14  income           48842 non-null  object\n",
            "dtypes: int64(6), object(9)\n",
            "memory usage: 5.6+ MB\n"
          ],
          "name": "stdout"
        }
      ]
    },
    {
      "cell_type": "code",
      "metadata": {
        "id": "cXqrcF1qkXeG",
        "colab_type": "code",
        "colab": {
          "base_uri": "https://localhost:8080/",
          "height": 84
        },
        "outputId": "107a4a94-5643-428a-8477-5c7c9c5d7b54"
      },
      "source": [
        "salary_dataset.rename(columns={'capital-gain': 'capital gain', 'capital-loss': 'capital loss', 'native-country': 'country','hours-per-week': 'hours per week','marital-status': 'marital'}, inplace=True)\n",
        "salary_dataset.columns"
      ],
      "execution_count": null,
      "outputs": [
        {
          "output_type": "execute_result",
          "data": {
            "text/plain": [
              "Index(['age', 'workclass', 'fnlwgt', 'education', 'educational-num', 'marital',\n",
              "       'occupation', 'relationship', 'race', 'gender', 'capital gain',\n",
              "       'capital loss', 'hours per week', 'country', 'income'],\n",
              "      dtype='object')"
            ]
          },
          "metadata": {
            "tags": []
          },
          "execution_count": 159
        }
      ]
    },
    {
      "cell_type": "code",
      "metadata": {
        "id": "s1QuSGAyl9Bx",
        "colab_type": "code",
        "colab": {
          "base_uri": "https://localhost:8080/",
          "height": 286
        },
        "outputId": "29958ebb-7199-4ed9-ffe8-70e0c869a29c"
      },
      "source": [
        "salary_dataset.isin(['?']).sum(axis=0)"
      ],
      "execution_count": null,
      "outputs": [
        {
          "output_type": "execute_result",
          "data": {
            "text/plain": [
              "age                   0\n",
              "workclass          2799\n",
              "fnlwgt                0\n",
              "education             0\n",
              "educational-num       0\n",
              "marital               0\n",
              "occupation         2809\n",
              "relationship          0\n",
              "race                  0\n",
              "gender                0\n",
              "capital gain          0\n",
              "capital loss          0\n",
              "hours per week        0\n",
              "country             857\n",
              "income                0\n",
              "dtype: int64"
            ]
          },
          "metadata": {
            "tags": []
          },
          "execution_count": 160
        }
      ]
    },
    {
      "cell_type": "code",
      "metadata": {
        "id": "KqOXtFLdmGZK",
        "colab_type": "code",
        "colab": {}
      },
      "source": [
        "salary_dataset['country'] = salary_dataset['country'].replace('?',np.nan)\n",
        "salary_dataset['workclass'] = salary_dataset['workclass'].replace('?',np.nan)\n",
        "salary_dataset['occupation'] = salary_dataset['occupation'].replace('?',np.nan)\n",
        "salary_dataset.dropna(how='any',inplace=True)"
      ],
      "execution_count": null,
      "outputs": []
    },
    {
      "cell_type": "code",
      "metadata": {
        "id": "AraQm0JKmceD",
        "colab_type": "code",
        "colab": {
          "base_uri": "https://localhost:8080/",
          "height": 1000
        },
        "outputId": "b6af9d4c-9f78-468a-82cf-19937e006721"
      },
      "source": [
        "for c in salary_dataset.columns:\n",
        "    print (\"---- %s ---\" % c)\n",
        "    print (salary_dataset[c].value_counts())"
      ],
      "execution_count": null,
      "outputs": [
        {
          "output_type": "stream",
          "text": [
            "---- age ---\n",
            "36    1283\n",
            "33    1279\n",
            "31    1274\n",
            "35    1272\n",
            "23    1241\n",
            "      ... \n",
            "85       5\n",
            "88       5\n",
            "86       1\n",
            "87       1\n",
            "89       1\n",
            "Name: age, Length: 74, dtype: int64\n",
            "---- workclass ---\n",
            "Private             33307\n",
            "Self-emp-not-inc     3796\n",
            "Local-gov            3100\n",
            "State-gov            1946\n",
            "Self-emp-inc         1646\n",
            "Federal-gov          1406\n",
            "Without-pay            21\n",
            "Name: workclass, dtype: int64\n",
            "---- fnlwgt ---\n",
            "203488    21\n",
            "125892    18\n",
            "120277    18\n",
            "113364    17\n",
            "126569    17\n",
            "          ..\n",
            "88440      1\n",
            "176517     1\n",
            "194956     1\n",
            "201105     1\n",
            "208174     1\n",
            "Name: fnlwgt, Length: 26741, dtype: int64\n",
            "---- education ---\n",
            "HS-grad         14783\n",
            "Some-college     9899\n",
            "Bachelors        7570\n",
            "Masters          2514\n",
            "Assoc-voc        1959\n",
            "11th             1619\n",
            "Assoc-acdm       1507\n",
            "10th             1223\n",
            "7th-8th           823\n",
            "Prof-school       785\n",
            "9th               676\n",
            "12th              577\n",
            "Doctorate         544\n",
            "5th-6th           449\n",
            "1st-4th           222\n",
            "Preschool          72\n",
            "Name: education, dtype: int64\n",
            "---- educational-num ---\n",
            "9     14783\n",
            "10     9899\n",
            "13     7570\n",
            "14     2514\n",
            "11     1959\n",
            "7      1619\n",
            "12     1507\n",
            "6      1223\n",
            "4       823\n",
            "15      785\n",
            "5       676\n",
            "8       577\n",
            "16      544\n",
            "3       449\n",
            "2       222\n",
            "1        72\n",
            "Name: educational-num, dtype: int64\n",
            "---- marital ---\n",
            "Married-civ-spouse       21055\n",
            "Never-married            14598\n",
            "Divorced                  6297\n",
            "Separated                 1411\n",
            "Widowed                   1277\n",
            "Married-spouse-absent      552\n",
            "Married-AF-spouse           32\n",
            "Name: marital, dtype: int64\n",
            "---- occupation ---\n",
            "Craft-repair         6020\n",
            "Prof-specialty       6008\n",
            "Exec-managerial      5984\n",
            "Adm-clerical         5540\n",
            "Sales                5408\n",
            "Other-service        4808\n",
            "Machine-op-inspct    2970\n",
            "Transport-moving     2316\n",
            "Handlers-cleaners    2046\n",
            "Farming-fishing      1480\n",
            "Tech-support         1420\n",
            "Protective-serv       976\n",
            "Priv-house-serv       232\n",
            "Armed-Forces           14\n",
            "Name: occupation, dtype: int64\n",
            "---- relationship ---\n",
            "Husband           18666\n",
            "Not-in-family     11702\n",
            "Own-child          6626\n",
            "Unmarried          4788\n",
            "Wife               2091\n",
            "Other-relative     1349\n",
            "Name: relationship, dtype: int64\n",
            "---- race ---\n",
            "White                 38903\n",
            "Black                  4228\n",
            "Asian-Pac-Islander     1303\n",
            "Amer-Indian-Eskimo      435\n",
            "Other                   353\n",
            "Name: race, dtype: int64\n",
            "---- gender ---\n",
            "Male      30527\n",
            "Female    14695\n",
            "Name: gender, dtype: int64\n",
            "---- capital gain ---\n",
            "0        41432\n",
            "15024      498\n",
            "7688       391\n",
            "7298       351\n",
            "99999      229\n",
            "         ...  \n",
            "1731         1\n",
            "22040        1\n",
            "7262         1\n",
            "1639         1\n",
            "2387         1\n",
            "Name: capital gain, Length: 121, dtype: int64\n",
            "---- capital loss ---\n",
            "0       43082\n",
            "1902      294\n",
            "1977      246\n",
            "1887      228\n",
            "2415       68\n",
            "        ...  \n",
            "2201        1\n",
            "1421        1\n",
            "4356        1\n",
            "2163        1\n",
            "1870        1\n",
            "Name: capital loss, Length: 97, dtype: int64\n",
            "---- hours per week ---\n",
            "40    21358\n",
            "50     4094\n",
            "45     2602\n",
            "60     2085\n",
            "35     1776\n",
            "      ...  \n",
            "69        1\n",
            "94        1\n",
            "79        1\n",
            "82        1\n",
            "87        1\n",
            "Name: hours per week, Length: 96, dtype: int64\n",
            "---- country ---\n",
            "United-States                 41292\n",
            "Mexico                          903\n",
            "Philippines                     283\n",
            "Germany                         193\n",
            "Puerto-Rico                     175\n",
            "Canada                          163\n",
            "El-Salvador                     147\n",
            "India                           147\n",
            "Cuba                            133\n",
            "England                         119\n",
            "China                           113\n",
            "Jamaica                         103\n",
            "South                           101\n",
            "Italy                           100\n",
            "Dominican-Republic               97\n",
            "Japan                            89\n",
            "Guatemala                        86\n",
            "Vietnam                          83\n",
            "Columbia                         82\n",
            "Poland                           81\n",
            "Haiti                            69\n",
            "Portugal                         62\n",
            "Iran                             56\n",
            "Taiwan                           55\n",
            "Greece                           49\n",
            "Nicaragua                        48\n",
            "Peru                             45\n",
            "Ecuador                          43\n",
            "Ireland                          36\n",
            "France                           36\n",
            "Thailand                         29\n",
            "Hong                             28\n",
            "Trinadad&Tobago                  26\n",
            "Cambodia                         26\n",
            "Yugoslavia                       23\n",
            "Outlying-US(Guam-USVI-etc)       22\n",
            "Laos                             21\n",
            "Scotland                         20\n",
            "Honduras                         19\n",
            "Hungary                          18\n",
            "Holand-Netherlands                1\n",
            "Name: country, dtype: int64\n",
            "---- income ---\n",
            "<=50K    34014\n",
            ">50K     11208\n",
            "Name: income, dtype: int64\n"
          ],
          "name": "stdout"
        }
      ]
    },
    {
      "cell_type": "code",
      "metadata": {
        "id": "9JLQ3motm0T6",
        "colab_type": "code",
        "colab": {}
      },
      "source": [
        "salary_dataset.drop(['educational-num','age', 'hours per week', 'fnlwgt', 'capital gain','capital loss', 'country'], axis=1, inplace=True)"
      ],
      "execution_count": null,
      "outputs": []
    },
    {
      "cell_type": "code",
      "metadata": {
        "id": "zHSGAPt1m_My",
        "colab_type": "code",
        "colab": {}
      },
      "source": [
        "salary_dataset['income'] = salary_dataset['income'].map({'<=50K': 0, '>50K': 1}).astype(int)"
      ],
      "execution_count": null,
      "outputs": []
    },
    {
      "cell_type": "code",
      "metadata": {
        "id": "jcX_x5yaohmS",
        "colab_type": "code",
        "colab": {}
      },
      "source": [
        "salary_dataset['gender'] = salary_dataset['gender'].map({'Male': 0, 'Female': 1}).astype(int)"
      ],
      "execution_count": null,
      "outputs": []
    },
    {
      "cell_type": "code",
      "metadata": {
        "id": "Wi-URQZOom7a",
        "colab_type": "code",
        "colab": {}
      },
      "source": [
        "salary_dataset['race'] = salary_dataset['race'].map({'Black': 0, 'Asian-Pac-Islander': 1, 'Other': 2, 'White': 3, 'Amer-Indian-Eskimo': 4}).astype(int)"
      ],
      "execution_count": null,
      "outputs": []
    },
    {
      "cell_type": "code",
      "metadata": {
        "id": "isJWVAlooxUV",
        "colab_type": "code",
        "colab": {}
      },
      "source": [
        "salary_dataset['marital'] = salary_dataset['marital'].map({'Married-spouse-absent': 0, 'Widowed': 1, 'Married-civ-spouse': 2, 'Separated': 3, 'Divorced': 4,'Never-married': 5, 'Married-AF-spouse': 6}).astype(int)"
      ],
      "execution_count": null,
      "outputs": []
    },
    {
      "cell_type": "code",
      "metadata": {
        "id": "ev9xPhKJo3qp",
        "colab_type": "code",
        "colab": {}
      },
      "source": [
        "salary_dataset['workclass'] = salary_dataset['workclass'].map({'Self-emp-inc': 0, 'State-gov': 1,'Federal-gov': 2, 'Without-pay': 3, 'Local-gov': 4,'Private': 5, 'Self-emp-not-inc': 6}).astype(int)"
      ],
      "execution_count": null,
      "outputs": []
    },
    {
      "cell_type": "code",
      "metadata": {
        "id": "7p9joDVco9hJ",
        "colab_type": "code",
        "colab": {}
      },
      "source": [
        "salary_dataset['education'] = salary_dataset['education'].map({'Some-college': 0, 'Preschool': 1, '5th-6th': 2, 'HS-grad': 3, 'Masters': 4, '12th': 5, '7th-8th': 6, 'Prof-school': 7,'1st-4th': 8, 'Assoc-acdm': 9, 'Doctorate': 10, '11th': 11,'Bachelors': 12, '10th': 13,'Assoc-voc': 14,'9th': 15}).astype(int)"
      ],
      "execution_count": null,
      "outputs": []
    },
    {
      "cell_type": "code",
      "metadata": {
        "id": "cURYCD-xqYP-",
        "colab_type": "code",
        "colab": {}
      },
      "source": [
        "salary_dataset['relationship'] = salary_dataset['relationship'].map({'Not-in-family': 0, 'Wife': 1, 'Other-relative': 2, 'Unmarried': 3,'Husband': 4,'Own-child': 5}).astype(int)"
      ],
      "execution_count": null,
      "outputs": []
    },
    {
      "cell_type": "code",
      "metadata": {
        "id": "DenHPre8xXOm",
        "colab_type": "code",
        "colab": {}
      },
      "source": [
        "salary_dataset['occupation'] = salary_dataset['occupation'].map({ 'Farming-fishing': 1, 'Tech-support': 2, 'Adm-clerical': 3, 'Handlers-cleaners': 4, \n",
        " 'Prof-specialty': 5,'Machine-op-inspct': 6, 'Exec-managerial': 7,'Priv-house-serv': 8,'Craft-repair': 9,'Sales': 10, 'Transport-moving': 11,\n",
        " 'Armed-Forces': 12, 'Other-service': 13,'Protective-serv':14}).astype(int)"
      ],
      "execution_count": null,
      "outputs": []
    },
    {
      "cell_type": "code",
      "metadata": {
        "id": "c7ZwJAdVqvvK",
        "colab_type": "code",
        "colab": {
          "base_uri": "https://localhost:8080/",
          "height": 299
        },
        "outputId": "484d1cb1-cfa9-4b0b-e8a9-f15861a58216"
      },
      "source": [
        "salary_dataset.groupby('education').income.mean().plot(kind='bar')"
      ],
      "execution_count": null,
      "outputs": [
        {
          "output_type": "execute_result",
          "data": {
            "text/plain": [
              "<matplotlib.axes._subplots.AxesSubplot at 0x7fbfe6ceb208>"
            ]
          },
          "metadata": {
            "tags": []
          },
          "execution_count": 173
        },
        {
          "output_type": "display_data",
          "data": {
            "image/png": "[encoded data removed]",
            "text/plain": [
              "<Figure size 432x288 with 1 Axes>"
            ]
          },
          "metadata": {
            "tags": [],
            "needs_background": "light"
          }
        }
      ]
    },
    {
      "cell_type": "code",
      "metadata": {
        "id": "gjyw0IS5ynJ2",
        "colab_type": "code",
        "colab": {
          "base_uri": "https://localhost:8080/",
          "height": 302
        },
        "outputId": "95d66efc-8aa2-4d27-a281-c92f840cfc77"
      },
      "source": [
        "salary_dataset.groupby('occupation').income.mean().plot(kind='bar')"
      ],
      "execution_count": null,
      "outputs": [
        {
          "output_type": "execute_result",
          "data": {
            "text/plain": [
              "<matplotlib.axes._subplots.AxesSubplot at 0x7fbfe6ca3550>"
            ]
          },
          "metadata": {
            "tags": []
          },
          "execution_count": 172
        },
        {
          "output_type": "display_data",
          "data": {
            "image/png": "[encoded data removed]",
            "text/plain": [
              "<Figure size 432x288 with 1 Axes>"
            ]
          },
          "metadata": {
            "tags": [],
            "needs_background": "light"
          }
        }
      ]
    },
    {
      "cell_type": "code",
      "metadata": {
        "id": "_e6nRVL1q8r5",
        "colab_type": "code",
        "colab": {
          "base_uri": "https://localhost:8080/",
          "height": 293
        },
        "outputId": "ffa4d505-a14b-4158-ac99-d5b2dbfd850f"
      },
      "source": [
        "salary_dataset.groupby('relationship').income.mean().plot(kind='bar')"
      ],
      "execution_count": null,
      "outputs": [
        {
          "output_type": "execute_result",
          "data": {
            "text/plain": [
              "<matplotlib.axes._subplots.AxesSubplot at 0x7fbfe6ceb5f8>"
            ]
          },
          "metadata": {
            "tags": []
          },
          "execution_count": 174
        },
        {
          "output_type": "display_data",
          "data": {
            "image/png": "[encoded data removed]",
            "text/plain": [
              "<Figure size 432x288 with 1 Axes>"
            ]
          },
          "metadata": {
            "tags": [],
            "needs_background": "light"
          }
        }
      ]
    },
    {
      "cell_type": "code",
      "metadata": {
        "id": "Q-J5P3VKrESp",
        "colab_type": "code",
        "colab": {
          "base_uri": "https://localhost:8080/",
          "height": 293
        },
        "outputId": "f6280917-ab00-4042-b178-b0c898183ffa"
      },
      "source": [
        "salary_dataset.groupby('gender').income.mean().plot(kind='bar')"
      ],
      "execution_count": null,
      "outputs": [
        {
          "output_type": "execute_result",
          "data": {
            "text/plain": [
              "<matplotlib.axes._subplots.AxesSubplot at 0x7fbfe6deada0>"
            ]
          },
          "metadata": {
            "tags": []
          },
          "execution_count": 136
        },
        {
          "output_type": "display_data",
          "data": {
            "image/png": "[encoded data removed]",
            "text/plain": [
              "<Figure size 432x288 with 1 Axes>"
            ]
          },
          "metadata": {
            "tags": [],
            "needs_background": "light"
          }
        }
      ]
    },
    {
      "cell_type": "code",
      "metadata": {
        "id": "11z7mdyCrJaQ",
        "colab_type": "code",
        "colab": {
          "base_uri": "https://localhost:8080/",
          "height": 293
        },
        "outputId": "d1696493-3ae3-4923-ac4f-221a671d34b1"
      },
      "source": [
        "salary_dataset.groupby('race').income.mean().plot(kind='bar')"
      ],
      "execution_count": null,
      "outputs": [
        {
          "output_type": "execute_result",
          "data": {
            "text/plain": [
              "<matplotlib.axes._subplots.AxesSubplot at 0x7fbfe6db9320>"
            ]
          },
          "metadata": {
            "tags": []
          },
          "execution_count": 137
        },
        {
          "output_type": "display_data",
          "data": {
            "image/png": "[encoded data removed]",
            "text/plain": [
              "<Figure size 432x288 with 1 Axes>"
            ]
          },
          "metadata": {
            "tags": [],
            "needs_background": "light"
          }
        }
      ]
    },
    {
      "cell_type": "code",
      "metadata": {
        "id": "eJEXruFCrNA4",
        "colab_type": "code",
        "colab": {
          "base_uri": "https://localhost:8080/",
          "height": 293
        },
        "outputId": "3b11c899-0de5-458e-84a4-830d5f4f8628"
      },
      "source": [
        "salary_dataset.groupby('workclass').income.mean().plot(kind='bar')"
      ],
      "execution_count": null,
      "outputs": [
        {
          "output_type": "execute_result",
          "data": {
            "text/plain": [
              "<matplotlib.axes._subplots.AxesSubplot at 0x7fbfe6d8b7b8>"
            ]
          },
          "metadata": {
            "tags": []
          },
          "execution_count": 138
        },
        {
          "output_type": "display_data",
          "data": {
            "image/png": "[encoded data removed]",
            "text/plain": [
              "<Figure size 432x288 with 1 Axes>"
            ]
          },
          "metadata": {
            "tags": [],
            "needs_background": "light"
          }
        }
      ]
    },
    {
      "cell_type": "code",
      "metadata": {
        "id": "oEYlYRL3yzIF",
        "colab_type": "code",
        "colab": {}
      },
      "source": [
        "salary_dataset_x = pd.DataFrame(np.c_[salary_dataset['relationship'], salary_dataset['education'], salary_dataset['race'],salary_dataset['occupation'],salary_dataset['gender'],salary_dataset['marital'],salary_dataset['workclass']], columns = ['relationship','education','race','occupation','gender','marital','workclass'])"
      ],
      "execution_count": null,
      "outputs": []
    },
    {
      "cell_type": "code",
      "metadata": {
        "id": "X1G5owa-zH0g",
        "colab_type": "code",
        "colab": {}
      },
      "source": [
        "salary_dataset_y = pd.DataFrame(salary_dataset.income)"
      ],
      "execution_count": null,
      "outputs": []
    },
    {
      "cell_type": "code",
      "metadata": {
        "id": "DKOIYZp7zRZU",
        "colab_type": "code",
        "colab": {}
      },
      "source": [
        "reg = LogisticRegression()"
      ],
      "execution_count": null,
      "outputs": []
    },
    {
      "cell_type": "code",
      "metadata": {
        "id": "TnhFKgjpzU89",
        "colab_type": "code",
        "colab": {}
      },
      "source": [
        "x_train, x_test, y_train, y_test = train_test_split(salary_dataset_x, salary_dataset_y, test_size=0.33, random_state=42)"
      ],
      "execution_count": null,
      "outputs": []
    },
    {
      "cell_type": "code",
      "metadata": {
        "id": "JauytcO4zfy_",
        "colab_type": "code",
        "colab": {
          "base_uri": "https://localhost:8080/",
          "height": 154
        },
        "outputId": "54f27ad7-f320-4998-8a8b-cfe3b1a5ba24"
      },
      "source": [
        "reg.fit(x_train, y_train)"
      ],
      "execution_count": null,
      "outputs": [
        {
          "output_type": "stream",
          "text": [
            "/usr/local/lib/python3.6/dist-packages/sklearn/utils/validation.py:760: DataConversionWarning: A column-vector y was passed when a 1d array was expected. Please change the shape of y to (n_samples, ), for example using ravel().\n",
            "  y = column_or_1d(y, warn=True)\n"
          ],
          "name": "stderr"
        },
        {
          "output_type": "execute_result",
          "data": {
            "text/plain": [
              "LogisticRegression(C=1.0, class_weight=None, dual=False, fit_intercept=True,\n",
              "                   intercept_scaling=1, l1_ratio=None, max_iter=100,\n",
              "                   multi_class='auto', n_jobs=None, penalty='l2',\n",
              "                   random_state=None, solver='lbfgs', tol=0.0001, verbose=0,\n",
              "                   warm_start=False)"
            ]
          },
          "metadata": {
            "tags": []
          },
          "execution_count": 179
        }
      ]
    },
    {
      "cell_type": "code",
      "metadata": {
        "id": "eSZgz5uXzlN1",
        "colab_type": "code",
        "colab": {}
      },
      "source": [
        "y_pred = reg.predict(x_test)"
      ],
      "execution_count": null,
      "outputs": []
    },
    {
      "cell_type": "code",
      "metadata": {
        "id": "Kwz2IHsZzrKN",
        "colab_type": "code",
        "colab": {
          "base_uri": "https://localhost:8080/",
          "height": 34
        },
        "outputId": "14e0ddd7-0002-4ee8-ff82-3ab3f9965dfc"
      },
      "source": [
        "reg.predict([[1,7,3,7,0,2,0]])"
      ],
      "execution_count": null,
      "outputs": [
        {
          "output_type": "execute_result",
          "data": {
            "text/plain": [
              "array([1])"
            ]
          },
          "metadata": {
            "tags": []
          },
          "execution_count": 181
        }
      ]
    },
    {
      "cell_type": "code",
      "metadata": {
        "id": "ekwEkXV6zvIt",
        "colab_type": "code",
        "colab": {
          "base_uri": "https://localhost:8080/",
          "height": 34
        },
        "outputId": "735f4328-ab08-4a6a-edf9-929a80af1313"
      },
      "source": [
        "print(\"Accuracy:\",metrics.accuracy_score(y_test, y_pred))"
      ],
      "execution_count": null,
      "outputs": [
        {
          "output_type": "stream",
          "text": [
            "Accuracy: 0.7603189493433395\n"
          ],
          "name": "stdout"
        }
      ]
    }
  ]
}